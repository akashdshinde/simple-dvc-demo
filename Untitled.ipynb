{
 "cells": [
  {
   "cell_type": "markdown",
   "id": "e834ee3b-2e16-4095-b5c3-70a1736137cc",
   "metadata": {},
   "source": [
    "# MLops Sunny Chndra Lecture:"
   ]
  },
  {
   "cell_type": "markdown",
   "id": "bf9c1923-cb94-4fd4-b108-38d95b59e6ea",
   "metadata": {},
   "source": [
    "### Data Version Control: Built on top of Git "
   ]
  },
  {
   "cell_type": "code",
   "execution_count": null,
   "id": "83af6935-56d5-49d6-bda2-7144134ecbff",
   "metadata": {},
   "outputs": [],
   "source": [
    "# 1.Project Architecture\n",
    "# 2.DVC\n",
    "# 3.Git Commands\n",
    "# 4.Basic Pythonc"
   ]
  },
  {
   "cell_type": "code",
   "execution_count": null,
   "id": "f181b4c5-cb9f-43fc-8bca-86b7b03ff2b6",
   "metadata": {},
   "outputs": [],
   "source": [
    "git version control: used to track the Code\n",
    "                     "
   ]
  },
  {
   "cell_type": "code",
   "execution_count": null,
   "id": "e3561b3c-e0f4-4a17-9c17-54e727c38627",
   "metadata": {},
   "outputs": [],
   "source": [
    "# Stage 1: Data preparation (Day 1: Initial setup)"
   ]
  },
  {
   "cell_type": "code",
   "execution_count": null,
   "id": "cb72ee14-47ef-461f-9d65-f42490b9e443",
   "metadata": {},
   "outputs": [],
   "source": [
    "# STEP 1 Create a new conda environment\n",
    "\n",
    "# Open an anaconda prompt and create an environment -\n",
    "\n",
    "conda create -n <your_env_name> python=3.7 -y\n",
    "\n",
    "# Activate the environment -\n",
    "\n",
    "conda activate <your_env_name>"
   ]
  },
  {
   "cell_type": "code",
   "execution_count": null,
   "id": "8406015d-dced-48b7-a217-08e3bcd49841",
   "metadata": {},
   "outputs": [],
   "source": [
    "# STEP 2 Create a default structure\n",
    "# Install cookiecutter template\n",
    "\n",
    "pip install cookiecutter\n",
    "\n",
    "# Start a new project\n",
    "\n",
    "cookiecutter https://github.com/drivendata/cookiecutter-data-science\n",
    "\n"
   ]
  },
  {
   "cell_type": "code",
   "execution_count": null,
   "id": "cbdd89cd",
   "metadata": {},
   "outputs": [],
   "source": [
    "# After above step you'll be given options in the command line.\n",
    "\n",
    "# project_name:\n",
    "# repo_name:\n",
    "# author_name:\n",
    "# description:\n",
    "# Select open_source_license:\n",
    "# s3_bucket [Optional]:\n",
    "# Select python_interpreter:"
   ]
  },
  {
   "cell_type": "code",
   "execution_count": null,
   "id": "50f04984",
   "metadata": {},
   "outputs": [],
   "source": [
    "# Once you are done with above step you'll see a following directory structure inside a directory by your given project_name\n",
    "\n",
    "├── LICENSE\n",
    "├── Makefile           <- Makefile with commands like `make data` or `make train`\n",
    "├── README.md          <- The top-level README for developers using this project.\n",
    "├── data\n",
    "│   ├── external       <- Data from third party sources.\n",
    "│   ├── interim        <- Intermediate data that has been transformed.\n",
    "│   ├── processed      <- The final, canonical data sets for modeling.\n",
    "│   └── raw            <- The original, immutable data dump.\n",
    "│\n",
    "├── docs               <- A default Sphinx project; see sphinx-doc.org for details\n",
    "│\n",
    "├── models             <- Trained and serialized models, model predictions, or model summaries\n",
    "│\n",
    "├── notebooks          <- Jupyter notebooks. Naming convention is a number (for ordering),\n",
    "│                         the creator's initials, and a short `-` delimited description, e.g.\n",
    "│                         `1.0-jqp-initial-data-exploration`.\n",
    "│\n",
    "├── references         <- Data dictionaries, manuals, and all other explanatory materials.\n",
    "│\n",
    "├── reports            <- Generated analysis as HTML, PDF, LaTeX, etc.\n",
    "│   └── figures        <- Generated graphics and figures to be used in reporting\n",
    "│\n",
    "├── requirements.txt   <- The requirements file for reproducing the analysis environment, e.g.\n",
    "│                         generated with `pip freeze > requirements.txt`\n",
    "│\n",
    "├── setup.py           <- makes project pip installable (pip install -e .) so src can be imported\n",
    "├── src                <- Source code for use in this project.\n",
    "│   ├── __init__.py    <- Makes src a Python module\n",
    "│   │\n",
    "│   ├── data           <- Scripts to download or generate data\n",
    "│   │   └── make_dataset.py\n",
    "│   │\n",
    "│   ├── features       <- Scripts to turn raw data into features for modeling\n",
    "│   │   └── build_features.py\n",
    "│   │\n",
    "│   ├── models         <- Scripts to train models and then use trained models to make\n",
    "│   │   │                 predictions\n",
    "│   │   ├── predict_model.py\n",
    "│   │   └── train_model.py\n",
    "│   │\n",
    "│   └── visualization  <- Scripts to create exploratory and results oriented visualizations\n",
    "│       └── visualize.py\n",
    "│\n",
    "└── tox.ini            <- tox file with settings for running tox; see tox.readthedocs.io"
   ]
  },
  {
   "cell_type": "code",
   "execution_count": null,
   "id": "90a61cb1",
   "metadata": {},
   "outputs": [],
   "source": [
    "# Now open the project in your favorite code editor.\n",
    "# STEP 3 Get the dataset\n",
    "# Clone it from the dataset repository or directly-"
   ]
  },
  {
   "cell_type": "code",
   "execution_count": null,
   "id": "6224abd3",
   "metadata": {},
   "outputs": [],
   "source": [
    "# STEP 4 Initialize git in Current working directory in your terminal, command prompt or git bash.\n",
    "\n",
    "git init\n",
    "\n",
    "# Note: If git is not installed in your system then download it from GIT-SCM site"
   ]
  },
  {
   "cell_type": "code",
   "execution_count": null,
   "id": "60a9e5f6",
   "metadata": {},
   "outputs": [],
   "source": [
    "# STEP 5 Install DVC and its gdrive extension\n",
    "\n",
    "pip install dvc\n",
    "pip install dvc[gdrive]"
   ]
  },
  {
   "cell_type": "code",
   "execution_count": null,
   "id": "e021f718",
   "metadata": {},
   "outputs": [],
   "source": []
  },
  {
   "cell_type": "code",
   "execution_count": null,
   "id": "a0dcb11e",
   "metadata": {},
   "outputs": [],
   "source": []
  }
 ],
 "metadata": {
  "kernelspec": {
   "display_name": "Python 3 (ipykernel)",
   "language": "python",
   "name": "python3"
  },
  "language_info": {
   "codemirror_mode": {
    "name": "ipython",
    "version": 3
   },
   "file_extension": ".py",
   "mimetype": "text/x-python",
   "name": "python",
   "nbconvert_exporter": "python",
   "pygments_lexer": "ipython3",
   "version": "3.11.5"
  }
 },
 "nbformat": 4,
 "nbformat_minor": 5
}
